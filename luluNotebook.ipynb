{
    "cells": [
        {
            "metadata": {},
            "cell_type": "code",
            "source": "\nimport os, types\nimport pandas as pd\nfrom botocore.client import Config\nimport ibm_boto3\n\ndef __iter__(self): return 0\n\n# @hidden_cell\n# The following code accesses a file in your IBM Cloud Object Storage. It includes your credentials.\n# You might want to remove those credentials before you share the notebook.\n\nif os.environ.get('RUNTIME_ENV_LOCATION_TYPE') == 'external':\n    endpoint_f6e62cfffb1946eb9400b6ec940da90a = 'https://s3.eu.cloud-object-storage.appdomain.cloud'\nelse:\n    endpoint_f6e62cfffb1946eb9400b6ec940da90a = 'https://s3.private.eu.cloud-object-storage.appdomain.cloud'\n\nclient_f6e62cfffb1946eb9400b6ec940da90a = ibm_boto3.client(service_name='s3',\n    ibm_api_key_id='w4kSYPK0mpzAiXXlRbV0w2Mfdmku7jhmdeKF58mZu-Xq',\n    ibm_auth_endpoint=\"https://iam.cloud.ibm.com/oidc/token\",\n    config=Config(signature_version='oauth'),\n    endpoint_url=endpoint_f6e62cfffb1946eb9400b6ec940da90a)\n\nbody = client_f6e62cfffb1946eb9400b6ec940da90a.get_object(Bucket='luludata-donotdelete-pr-rnfmgrqa6p6ulm',Key='Med.xlsx')['Body']\n\ndf_data_0 = pd.read_excel(body.read())\ndf_data_0.head()",
            "execution_count": 1,
            "outputs": [
                {
                    "output_type": "execute_result",
                    "execution_count": 1,
                    "data": {
                        "text/plain": "       name gender        taste    organ\n0  dangshen    mid        sweet  stomach\n1   huangqi   warm        sweet    lungs\n2    baizhu   warm        sweet  stomach\n3    fuling    mid  light sweet  stomach\n4    gancao    mid        sweet  stomach",
                        "text/html": "<div>\n<style scoped>\n    .dataframe tbody tr th:only-of-type {\n        vertical-align: middle;\n    }\n\n    .dataframe tbody tr th {\n        vertical-align: top;\n    }\n\n    .dataframe thead th {\n        text-align: right;\n    }\n</style>\n<table border=\"1\" class=\"dataframe\">\n  <thead>\n    <tr style=\"text-align: right;\">\n      <th></th>\n      <th>name</th>\n      <th>gender</th>\n      <th>taste</th>\n      <th>organ</th>\n    </tr>\n  </thead>\n  <tbody>\n    <tr>\n      <th>0</th>\n      <td>dangshen</td>\n      <td>mid</td>\n      <td>sweet</td>\n      <td>stomach</td>\n    </tr>\n    <tr>\n      <th>1</th>\n      <td>huangqi</td>\n      <td>warm</td>\n      <td>sweet</td>\n      <td>lungs</td>\n    </tr>\n    <tr>\n      <th>2</th>\n      <td>baizhu</td>\n      <td>warm</td>\n      <td>sweet</td>\n      <td>stomach</td>\n    </tr>\n    <tr>\n      <th>3</th>\n      <td>fuling</td>\n      <td>mid</td>\n      <td>light sweet</td>\n      <td>stomach</td>\n    </tr>\n    <tr>\n      <th>4</th>\n      <td>gancao</td>\n      <td>mid</td>\n      <td>sweet</td>\n      <td>stomach</td>\n    </tr>\n  </tbody>\n</table>\n</div>"
                    },
                    "metadata": {}
                }
            ]
        },
        {
            "metadata": {},
            "cell_type": "code",
            "source": "",
            "execution_count": null,
            "outputs": []
        }
    ],
    "metadata": {
        "kernelspec": {
            "name": "python3",
            "display_name": "Python 3.7",
            "language": "python"
        },
        "language_info": {
            "name": "python",
            "version": "3.7.11",
            "mimetype": "text/x-python",
            "codemirror_mode": {
                "name": "ipython",
                "version": 3
            },
            "pygments_lexer": "ipython3",
            "nbconvert_exporter": "python",
            "file_extension": ".py"
        }
    },
    "nbformat": 4,
    "nbformat_minor": 1
}