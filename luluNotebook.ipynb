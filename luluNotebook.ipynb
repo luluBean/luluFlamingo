{
    "cells": [
        {
            "cell_type": "code",
            "execution_count": 1,
            "metadata": {},
            "outputs": [
                {
                    "data": {
                        "text/html": "<div>\n<style scoped>\n    .dataframe tbody tr th:only-of-type {\n        vertical-align: middle;\n    }\n\n    .dataframe tbody tr th {\n        vertical-align: top;\n    }\n\n    .dataframe thead th {\n        text-align: right;\n    }\n</style>\n<table border=\"1\" class=\"dataframe\">\n  <thead>\n    <tr style=\"text-align: right;\">\n      <th></th>\n      <th>name</th>\n      <th>gender</th>\n      <th>taste</th>\n      <th>organ</th>\n    </tr>\n  </thead>\n  <tbody>\n    <tr>\n      <th>0</th>\n      <td>dangshen</td>\n      <td>mid</td>\n      <td>sweet</td>\n      <td>stomach</td>\n    </tr>\n    <tr>\n      <th>1</th>\n      <td>huangqi</td>\n      <td>warm</td>\n      <td>sweet</td>\n      <td>lungs</td>\n    </tr>\n    <tr>\n      <th>2</th>\n      <td>baizhu</td>\n      <td>warm</td>\n      <td>sweet</td>\n      <td>stomach</td>\n    </tr>\n    <tr>\n      <th>3</th>\n      <td>fuling</td>\n      <td>mid</td>\n      <td>light sweet</td>\n      <td>stomach</td>\n    </tr>\n    <tr>\n      <th>4</th>\n      <td>gancao</td>\n      <td>mid</td>\n      <td>sweet</td>\n      <td>stomach</td>\n    </tr>\n  </tbody>\n</table>\n</div>",
                        "text/plain": "       name gender        taste    organ\n0  dangshen    mid        sweet  stomach\n1   huangqi   warm        sweet    lungs\n2    baizhu   warm        sweet  stomach\n3    fuling    mid  light sweet  stomach\n4    gancao    mid        sweet  stomach"
                    },
                    "execution_count": 1,
                    "metadata": {},
                    "output_type": "execute_result"
                }
            ],
            "source": "# The code was removed by Watson Studio for sharing."
        },
        {
            "cell_type": "code",
            "execution_count": null,
            "metadata": {},
            "outputs": [],
            "source": ""
        }
    ],
    "metadata": {
        "kernelspec": {
            "display_name": "Python 3.7",
            "language": "python",
            "name": "python3"
        },
        "language_info": {
            "codemirror_mode": {
                "name": "ipython",
                "version": 3
            },
            "file_extension": ".py",
            "mimetype": "text/x-python",
            "name": "python",
            "nbconvert_exporter": "python",
            "pygments_lexer": "ipython3",
            "version": "3.7.11"
        }
    },
    "nbformat": 4,
    "nbformat_minor": 1
}